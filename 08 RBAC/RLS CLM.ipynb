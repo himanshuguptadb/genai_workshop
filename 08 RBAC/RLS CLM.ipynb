{
 "cells": [
  {
   "cell_type": "markdown",
   "metadata": {
    "application/vnd.databricks.v1+cell": {
     "cellMetadata": {},
     "inputWidgets": {},
     "nuid": "ba0af5b0-e4d2-4e85-b688-0b81187c9f43",
     "showTitle": false,
     "tableResultSettingsMap": {},
     "title": ""
    }
   },
   "source": [
    "# Lab: RLS/CLM using Databricks"
   ]
  },
  {
   "cell_type": "code",
   "execution_count": 0,
   "metadata": {
    "application/vnd.databricks.v1+cell": {
     "cellMetadata": {
      "byteLimit": 2048000,
      "rowLimit": 10000
     },
     "inputWidgets": {},
     "nuid": "b28b8864-2b9c-4e91-a3f5-a6224b1b6bb1",
     "showTitle": true,
     "tableResultSettingsMap": {},
     "title": "Setup base catalog and schema"
    }
   },
   "outputs": [],
   "source": [
    "%run \"../00 Setup/00_Config\""
   ]
  },
  {
   "cell_type": "markdown",
   "metadata": {
    "application/vnd.databricks.v1+cell": {
     "cellMetadata": {},
     "inputWidgets": {},
     "nuid": "1adce56a-76ce-4603-b093-527a91347168",
     "showTitle": false,
     "tableResultSettingsMap": {},
     "title": ""
    }
   },
   "source": [
    "## 1. How to apply row level filters to a table"
   ]
  },
  {
   "cell_type": "code",
   "execution_count": 0,
   "metadata": {
    "application/vnd.databricks.v1+cell": {
     "cellMetadata": {
      "byteLimit": 2048000,
      "rowLimit": 10000
     },
     "inputWidgets": {},
     "nuid": "170b4255-7eb7-4ff5-b622-eeaedcb71441",
     "showTitle": false,
     "tableResultSettingsMap": {},
     "title": ""
    }
   },
   "outputs": [],
   "source": [
    "-- Select all unique issue categories from the customer service data table\n",
    "select distinct issue_category from cust_service_data"
   ]
  },
  {
   "cell_type": "code",
   "execution_count": 0,
   "metadata": {
    "application/vnd.databricks.v1+cell": {
     "cellMetadata": {
      "byteLimit": 2048000,
      "rowLimit": 10000
     },
     "inputWidgets": {},
     "nuid": "40c71ae2-f1c4-4391-9904-a76185bd8791",
     "showTitle": false,
     "tableResultSettingsMap": {},
     "title": ""
    }
   },
   "outputs": [],
   "source": [
    "-- Drop the issue_filter function if it already exists\n",
    "DROP FUNCTION IF EXISTS issue_filter;\n",
    "\n",
    "-- Create a row filter function to restrict access based on user group and issue category\n",
    "CREATE FUNCTION issue_filter(issue_category STRING)\n",
    "RETURN IF(IS_ACCOUNT_GROUP_MEMBER('admin'), true, issue_category ='Technical Support');"
   ]
  },
  {
   "cell_type": "code",
   "execution_count": 0,
   "metadata": {
    "application/vnd.databricks.v1+cell": {
     "cellMetadata": {
      "byteLimit": 2048000,
      "rowLimit": 10000
     },
     "inputWidgets": {},
     "nuid": "86da8ac8-1747-4a6c-a0d0-ed4771daa11d",
     "showTitle": false,
     "tableResultSettingsMap": {},
     "title": ""
    }
   },
   "outputs": [],
   "source": [
    "-- Apply the issue_filter row filter function to restrict access to rows based on user group and issue category\n",
    "ALTER TABLE cust_service_data SET ROW FILTER issue_filter ON (issue_category);\n",
    "\n",
    "-- Uncomment the following line to remove the row filter from the table\n",
    "--ALTER TABLE cust_service_data DROP ROW FILTER;"
   ]
  },
  {
   "cell_type": "code",
   "execution_count": 0,
   "metadata": {
    "application/vnd.databricks.v1+cell": {
     "cellMetadata": {
      "byteLimit": 2048000,
      "rowLimit": 10000
     },
     "inputWidgets": {},
     "nuid": "f78296a5-4cd7-47e9-9a25-64fe3a2fbc85",
     "showTitle": false,
     "tableResultSettingsMap": {},
     "title": ""
    }
   },
   "outputs": [],
   "source": [
    "-- Select all unique issue categories from the customer service data table afer row level security is applied\n",
    "select distinct issue_category from cust_service_data"
   ]
  },
  {
   "cell_type": "markdown",
   "metadata": {
    "application/vnd.databricks.v1+cell": {
     "cellMetadata": {},
     "inputWidgets": {},
     "nuid": "ea12e6d5-b3d9-48a4-9277-8f6d11df194c",
     "showTitle": false,
     "tableResultSettingsMap": {},
     "title": ""
    }
   },
   "source": [
    "## 2. How to apply column level masking"
   ]
  },
  {
   "cell_type": "code",
   "execution_count": 0,
   "metadata": {
    "application/vnd.databricks.v1+cell": {
     "cellMetadata": {
      "byteLimit": 2048000,
      "rowLimit": 10000
     },
     "inputWidgets": {},
     "nuid": "f8dbafde-9fe0-49d6-ba73-1fd8ec629ee0",
     "showTitle": false,
     "tableResultSettingsMap": {},
     "title": ""
    }
   },
   "outputs": [],
   "source": [
    "-- Select all columns from the survey table\n",
    "select * from survey"
   ]
  },
  {
   "cell_type": "code",
   "execution_count": 0,
   "metadata": {
    "application/vnd.databricks.v1+cell": {
     "cellMetadata": {
      "byteLimit": 2048000,
      "rowLimit": 10000
     },
     "inputWidgets": {},
     "nuid": "7516b869-5f85-43a6-9e8e-437fc0529846",
     "showTitle": false,
     "tableResultSettingsMap": {},
     "title": ""
    }
   },
   "outputs": [],
   "source": [
    "-- Drop the surveycomment_mask function if it already exists\n",
    "DROP FUNCTION IF EXISTS surveycomment_mask;\n",
    "\n",
    "-- Create a column mask function to restrict access to survey_comment based on user group\n",
    "CREATE FUNCTION surveycomment_mask(survey_comment STRING)\n",
    "  RETURN CASE WHEN is_account_group_member('admin') THEN survey_comment ELSE '***' END;"
   ]
  },
  {
   "cell_type": "code",
   "execution_count": 0,
   "metadata": {
    "application/vnd.databricks.v1+cell": {
     "cellMetadata": {
      "byteLimit": 2048000,
      "rowLimit": 10000
     },
     "inputWidgets": {},
     "nuid": "adb04094-45a2-41d6-913d-55a1d4859a47",
     "showTitle": false,
     "tableResultSettingsMap": {},
     "title": ""
    }
   },
   "outputs": [],
   "source": [
    "-- Apply the surveycomment_mask column mask function to restrict access to survey_comment based on user group\n",
    "ALTER TABLE survey ALTER COLUMN survey_comment SET MASK surveycomment_mask;\n",
    "\n",
    "-- Uncomment the following line to remove the column mask from survey_comment\n",
    "--ALTER TABLE survey ALTER COLUMN survey_comment DROP MASK;"
   ]
  },
  {
   "cell_type": "code",
   "execution_count": 0,
   "metadata": {
    "application/vnd.databricks.v1+cell": {
     "cellMetadata": {
      "byteLimit": 2048000,
      "rowLimit": 10000
     },
     "inputWidgets": {},
     "nuid": "f34496f4-8e8a-4f8b-8f28-3db98283137f",
     "showTitle": false,
     "tableResultSettingsMap": {},
     "title": ""
    }
   },
   "outputs": [],
   "source": [
    "-- Select all columns from the survey table after column level security is applied\n",
    "select * from survey"
   ]
  }
 ],
 "metadata": {
  "application/vnd.databricks.v1+notebook": {
   "computePreferences": null,
   "dashboards": [],
   "environmentMetadata": {
    "base_environment": "",
    "environment_version": "2"
   },
   "inputWidgetPreferences": null,
   "language": "sql",
   "notebookMetadata": {
    "pythonIndentUnit": 2
   },
   "notebookName": "RLS CLM",
   "widgets": {}
  },
  "language_info": {
   "name": "sql"
  }
 },
 "nbformat": 4,
 "nbformat_minor": 0
}
