{
 "cells": [
  {
   "cell_type": "markdown",
   "metadata": {
    "application/vnd.databricks.v1+cell": {
     "cellMetadata": {},
     "inputWidgets": {},
     "nuid": "4f98cbe2-de5b-4622-8ff8-8eae2aee65bb",
     "showTitle": false,
     "tableResultSettingsMap": {},
     "title": ""
    }
   },
   "source": [
    "# Sample Queries\n",
    "- What is the average satisfaction rating from the survey data?\n",
    "- How many interactions were recorded each month in the customer service data?"
   ]
  },
  {
   "cell_type": "markdown",
   "metadata": {
    "application/vnd.databricks.v1+cell": {
     "cellMetadata": {},
     "inputWidgets": {},
     "nuid": "2a74a199-5c8b-41b4-abd0-5f8f1ca53fa8",
     "showTitle": false,
     "tableResultSettingsMap": {},
     "title": ""
    }
   },
   "source": [
    "# Genie Script\n",
    "- Start with explaining the dataset\n",
    "- What are the different issue categories in the customer service data?\n",
    "- What are the most common issue categories reported in customer service data?\n",
    "- Show the latest interaction related to Technical Support issue\n",
    "- What was the survey result for this issue\n"
   ]
  },
  {
   "cell_type": "markdown",
   "metadata": {
    "application/vnd.databricks.v1+cell": {
     "cellMetadata": {},
     "inputWidgets": {},
     "nuid": "8ceb9ea0-6687-4128-be0f-afc5ae9a5209",
     "showTitle": true,
     "tableResultSettingsMap": {},
     "title": "Instructions"
    }
   },
   "source": [
    "\n",
    "# Instructions for Genie Rooms. \n",
    "survey satisfaction rating below 2 is categorized as Red.  \n",
    "survey satisfaction rating between 3 and 4 is categorized as Yellow.  \n",
    "survey satisfaction rating of 5 is categorized as Green. "
   ]
  },
  {
   "cell_type": "markdown",
   "metadata": {
    "application/vnd.databricks.v1+cell": {
     "cellMetadata": {},
     "inputWidgets": {},
     "nuid": "b8159ac9-2625-4622-ad1d-f9367cf228fa",
     "showTitle": true,
     "tableResultSettingsMap": {},
     "title": "Sample Query"
    }
   },
   "source": [
    "\n",
    "# Sample SQL query and Functions. \n",
    "## Functions. \n",
    "- get_order_history\n",
    "  -   Show order history for Nichole\n",
    "\n",
    "- get_latest_interaction\n",
    "  -   Show latest interaction for Nichole "
   ]
  }
 ],
 "metadata": {
  "application/vnd.databricks.v1+notebook": {
   "computePreferences": null,
   "dashboards": [],
   "environmentMetadata": {
    "base_environment": "",
    "environment_version": "2"
   },
   "inputWidgetPreferences": null,
   "language": "sql",
   "notebookMetadata": {},
   "notebookName": "Setup",
   "widgets": {}
  },
  "language_info": {
   "name": "sql"
  }
 },
 "nbformat": 4,
 "nbformat_minor": 0
}
