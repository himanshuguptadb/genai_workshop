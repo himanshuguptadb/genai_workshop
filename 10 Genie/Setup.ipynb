{
 "cells": [
  {
   "cell_type": "markdown",
   "metadata": {
    "application/vnd.databricks.v1+cell": {
     "cellMetadata": {},
     "inputWidgets": {},
     "nuid": "4f98cbe2-de5b-4622-8ff8-8eae2aee65bb",
     "showTitle": false,
     "tableResultSettingsMap": {},
     "title": ""
    }
   },
   "source": [
    "# Sample Queries\n",
    "- What is the distribution of vehicles' years in the dataset?\n",
    "- What are the different specializations of technicians available?"
   ]
  },
  {
   "cell_type": "markdown",
   "metadata": {
    "application/vnd.databricks.v1+cell": {
     "cellMetadata": {},
     "inputWidgets": {},
     "nuid": "2a74a199-5c8b-41b4-abd0-5f8f1ca53fa8",
     "showTitle": false,
     "tableResultSettingsMap": {},
     "title": ""
    }
   },
   "source": [
    "# Genie Script\n",
    "- Start with explaining the dataset\n",
    "- What vehicles are sold the most\n",
    "- List of 10 customers which have the oldest SUV\n",
    "- Show technician notes for services performed on Susan Hebert vehicle\n",
    "- how many services are completed by technition with id 6\n"
   ]
  },
  {
   "cell_type": "markdown",
   "metadata": {
    "application/vnd.databricks.v1+cell": {
     "cellMetadata": {},
     "inputWidgets": {},
     "nuid": "8ceb9ea0-6687-4128-be0f-afc5ae9a5209",
     "showTitle": true,
     "tableResultSettingsMap": {},
     "title": "Instructions"
    }
   },
   "source": [
    "\n",
    "# Instructions for Genie Rooms. \n",
    "Concat customer first and last name into a single column when displaying customer name  \n",
    "When asked about compact model type, combine data for sedan and convertible  \n",
    "When asked about mid size model type, combine data for Coupe and Hatchback  "
   ]
  },
  {
   "cell_type": "markdown",
   "metadata": {
    "application/vnd.databricks.v1+cell": {
     "cellMetadata": {},
     "inputWidgets": {},
     "nuid": "b8159ac9-2625-4622-ad1d-f9367cf228fa",
     "showTitle": true,
     "tableResultSettingsMap": {},
     "title": "Sample Query"
    }
   },
   "source": [
    "\n",
    "# Sample SQL query and Functions. \n",
    "## Functions. \n",
    "- get_order_history\n",
    "  -   Show order history for Nichole\n",
    "\n",
    "- get_latest_interaction\n",
    "  -   Show latest interaction for Nichole\n",
    "\n",
    "## Sample Query.\n",
    "- What vehicle makes are most common among customers?\n",
    "  -   SELECT\n",
    "  `make`,\n",
    "  `model`,\n",
    "  COUNT(*) AS make_count\n",
    "FROM\n",
    "  `himanshug_demo`.`upsell`.`vehicle`\n",
    "WHERE\n",
    "  `make` IS NOT NULL\n",
    "GROUP BY\n",
    "  `make`,\n",
    "  `model`\n",
    "ORDER BY\n",
    "  make_count DESC;"
   ]
  }
 ],
 "metadata": {
  "application/vnd.databricks.v1+notebook": {
   "computePreferences": null,
   "dashboards": [],
   "environmentMetadata": {
    "base_environment": "",
    "environment_version": "2"
   },
   "inputWidgetPreferences": null,
   "language": "sql",
   "notebookMetadata": {},
   "notebookName": "Setup",
   "widgets": {}
  },
  "language_info": {
   "name": "sql"
  }
 },
 "nbformat": 4,
 "nbformat_minor": 0
}
